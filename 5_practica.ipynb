{
  "cells": [
    {
      "cell_type": "markdown",
      "metadata": {
        "id": "view-in-github",
        "colab_type": "text"
      },
      "source": [
        "<a href=\"https://colab.research.google.com/github/mangelapumacajia-1999/HERRAMIENTAS-BIOINFORMATICAS/blob/main/5_practica.ipynb\" target=\"_parent\"><img src=\"https://colab.research.google.com/assets/colab-badge.svg\" alt=\"Open In Colab\"/></a>"
      ]
    },
    {
      "cell_type": "code",
      "execution_count": null,
      "metadata": {
        "colab": {
          "base_uri": "https://localhost:8080/"
        },
        "id": "LkHIKOMM4-XJ",
        "outputId": "f146fb45-0d40-4aa5-9da0-49d78c52cc2e"
      },
      "outputs": [
        {
          "output_type": "stream",
          "name": "stdout",
          "text": [
            "/bin/bash: line 1: cd: /content/drive/MyDrive/Colab_Notebooks/gen_evol/datasets: No such file or directory\n",
            "Requirement already satisfied: biopython in /usr/local/lib/python3.12/dist-packages (1.85)\n",
            "Requirement already satisfied: numpy in /usr/local/lib/python3.12/dist-packages (from biopython) (2.0.2)\n",
            "ID: OK064526.1\n",
            "Descripción: OK064526.1 Westringia rosmariniformis trnN(GUU)-ycf1 intergenic spacer, partial sequence; Ycf1 (ycf1) gene, complete cds; ycf1-rps15 intergenic spacer, complete sequence; and ribosomal protein S15 (rps15) gene, partial cds; chloroplast\n",
            "Longitud: 6259\n",
            "Ultimos 101 nucleótidos: CGGTAAAATCCATATCTGTAAAAAGGGAAAGGGGCATTTTTATGGTAAAAAATTCATTCATTTCGGTTATTTCTCAAAAAGAAAACGGAGGTTCTGTTGA\n"
          ]
        }
      ],
      "source": [
        "!cd /content/drive/MyDrive/Colab_Notebooks/gen_evol/datasets\n",
        "\n",
        "# Instalamos Biopython, una librería para trabajar con datos biológicos\n",
        "!pip install biopython\n",
        "\n",
        "# Importamos los módulos necesarios\n",
        "from Bio import Entrez, SeqIO\n",
        "\n",
        "# NCBI requiere que se proporcione un correo electrónico para usar Entrez\n",
        "Entrez.email = \"mangelapumacajia@gmail.com\"  # Reemplaza con tu correo\n",
        "\n",
        "# Definimos el número de acceso de la secuencia que queremos recuperar\n",
        "accession = \"OK064526\" #Westringia rosmariniformis trnN(GUU)-ycf1\n",
        "\n",
        "\n",
        "# Usamos Entrez para obtener la secuencia en formato FASTA\n",
        "handle = Entrez.efetch(db=\"nucleotide\", id=accession, rettype=\"fasta\", retmode=\"text\")\n",
        "record = SeqIO.read(handle, \"fasta\")\n",
        "handle.close()\n",
        "\n",
        "# Guardamos la secuencia en un archivo FASTA local\n",
        "SeqIO.write(record, \"/content/drive/MyDrive/Colab_Notebooks/BIOINFO/mi_secuencia2.fasta\", \"fasta\")\n",
        "\n",
        "# Mostramos información básica de la secuencia\n",
        "print(\"ID:\", record.id)\n",
        "print(\"Descripción:\", record.description)\n",
        "print(\"Longitud:\", len(record.seq))\n",
        "print(\"Ultimos 101 nucleótidos:\", record.seq[6159:6259])\n",
        "\n"
      ]
    },
    {
      "cell_type": "code",
      "source": [
        "from google.colab import drive\n",
        "drive.mount('/content/drive')"
      ],
      "metadata": {
        "colab": {
          "base_uri": "https://localhost:8080/"
        },
        "id": "Sd7evTU2REsh",
        "outputId": "b031e955-e767-4d01-ecb7-c2de6451ed71"
      },
      "execution_count": null,
      "outputs": [
        {
          "output_type": "stream",
          "name": "stdout",
          "text": [
            "Mounted at /content/drive\n"
          ]
        }
      ]
    },
    {
      "cell_type": "code",
      "execution_count": null,
      "metadata": {
        "colab": {
          "base_uri": "https://localhost:8080/"
        },
        "id": "mVUb7cYg6nK6",
        "outputId": "335d7513-049c-4229-b839-81061788855b"
      },
      "outputs": [
        {
          "output_type": "stream",
          "name": "stdout",
          "text": [
            "Secuencia mutada (primeros 101 nt): CCGTAAAATCCATATCTGTAAAAAGGGAAAGGGGCATTTTTATGGTAAAAAATTCATTCATTTCGGTTATTTCTCAAAAAGAAAACGGAGGTTCTGTTGA\n"
          ]
        }
      ],
      "source": [
        "# Importamos módulos para trabajar con secuencias\n",
        "from Bio import SeqIO\n",
        "from Bio.Seq import Seq\n",
        "\n",
        "# Leemos la secuencia guardada en el archivo FASTA\n",
        "registro = SeqIO.read(\"/content/drive/MyDrive/Colab_Notebooks/BIOINFO/mi_secuencia2.fasta\", \"fasta\")\n",
        "\n",
        "# Convertimos la secuencia (string) a una lista de caracteres para poder editarla\n",
        "seq_list = list(str(registro.seq))\n",
        "\n",
        "# Realizamos una mutación en la posición 100 (cambiamos el nucleótido por 'A')\n",
        "seq_list[6160] = \"C\"\n",
        "\n",
        "# Reconstruimos la secuencia de caracteres a una cadena de texto (string) como objeto Seq\n",
        "secuencia_mutada = Seq(\"\".join(seq_list))\n",
        "\n",
        "# Mostramos los primeros 101 nucleótidos de la secuencia mutada\n",
        "print(\"Secuencia mutada (primeros 101 nt):\", secuencia_mutada[6159:6259])\n"
      ]
    },
    {
      "cell_type": "code",
      "source": [
        "# Instalamos la librería para visualizar secuencias con anotaciones\n",
        "!pip install dna_features_viewer\n",
        "\n",
        "# Importamos Dos módulos necesarios GraphicFeature, GraphicRecord\n",
        "from dna_features_viewer import GraphicFeature, GraphicRecord\n",
        "import matplotlib.pyplot as plt #Aqui abreviamos el nombre grande a plt\n",
        "\n",
        "# Buscamos un ORF probable en ORFfinder, candiadto a un exón\n",
        "\n",
        "#        ORF: start 4029, end 5813, hebra +, longitud 594 aa\n",
        "\n",
        "#Creamos anotaciones probables sobre la secuencia\n",
        "features = [\n",
        "    GraphicFeature(start=4029, end=5813, strand=+1, color=\"#ffd700\", label=\"Exón 1\"),\n",
        "    GraphicFeature(start=4106, end=4406, strand=-1, color=\"#ffcccc\", label=\"Promotor\"),\n",
        "    GraphicFeature(start=4351, end=4361, strand=+1, color=\"#cce5ff\", label=\"Sitio regulador\")\n",
        "]\n",
        "#el primer feature va desde la posicion 50 y termina en la posicion 150\n",
        "\n",
        "# Creamos el gráfico con las anotaciones\n",
        "record = GraphicRecord(sequence_length=len(secuencia_mutada), features=features)\n",
        "ax, _ = record.plot(figure_width=10)\n",
        "plt.show() # Mostramos el gráfico\n"
      ],
      "metadata": {
        "colab": {
          "base_uri": "https://localhost:8080/",
          "height": 537
        },
        "id": "-O2vBCit1uGi",
        "outputId": "6b838afa-6f65-4435-af30-1a35a0ad08a0"
      },
      "execution_count": null,
      "outputs": [
        {
          "output_type": "stream",
          "name": "stdout",
          "text": [
            "Requirement already satisfied: dna_features_viewer in /usr/local/lib/python3.12/dist-packages (3.1.5)\n",
            "Requirement already satisfied: matplotlib>=3 in /usr/local/lib/python3.12/dist-packages (from dna_features_viewer) (3.10.0)\n",
            "Requirement already satisfied: Biopython in /usr/local/lib/python3.12/dist-packages (from dna_features_viewer) (1.85)\n",
            "Requirement already satisfied: packaging in /usr/local/lib/python3.12/dist-packages (from dna_features_viewer) (25.0)\n",
            "Requirement already satisfied: contourpy>=1.0.1 in /usr/local/lib/python3.12/dist-packages (from matplotlib>=3->dna_features_viewer) (1.3.3)\n",
            "Requirement already satisfied: cycler>=0.10 in /usr/local/lib/python3.12/dist-packages (from matplotlib>=3->dna_features_viewer) (0.12.1)\n",
            "Requirement already satisfied: fonttools>=4.22.0 in /usr/local/lib/python3.12/dist-packages (from matplotlib>=3->dna_features_viewer) (4.60.1)\n",
            "Requirement already satisfied: kiwisolver>=1.3.1 in /usr/local/lib/python3.12/dist-packages (from matplotlib>=3->dna_features_viewer) (1.4.9)\n",
            "Requirement already satisfied: numpy>=1.23 in /usr/local/lib/python3.12/dist-packages (from matplotlib>=3->dna_features_viewer) (2.0.2)\n",
            "Requirement already satisfied: pillow>=8 in /usr/local/lib/python3.12/dist-packages (from matplotlib>=3->dna_features_viewer) (11.3.0)\n",
            "Requirement already satisfied: pyparsing>=2.3.1 in /usr/local/lib/python3.12/dist-packages (from matplotlib>=3->dna_features_viewer) (3.2.5)\n",
            "Requirement already satisfied: python-dateutil>=2.7 in /usr/local/lib/python3.12/dist-packages (from matplotlib>=3->dna_features_viewer) (2.9.0.post0)\n",
            "Requirement already satisfied: six>=1.5 in /usr/local/lib/python3.12/dist-packages (from python-dateutil>=2.7->matplotlib>=3->dna_features_viewer) (1.17.0)\n"
          ]
        },
        {
          "output_type": "display_data",
          "data": {
            "text/plain": [
              "<Figure size 1000x300 with 1 Axes>"
            ],
            "image/png": "[encoded data removed]"
          },
          "metadata": {}
        }
      ]
    },
    {
      "cell_type": "code",
      "source": [
        "# Importamos el módulo para crear un nuevo registro de secuencia\n",
        "from Bio.SeqRecord import SeqRecord #para guardar algo dentro de nuestros folderes\n",
        "\n",
        "# Creamos un nuevo objeto SeqRecord con la secuencia mutada\n",
        "registro_editado = SeqRecord(\n",
        "    secuencia_mutada,\n",
        "    id=\"Editado_NCBI\",\n",
        "    description=\"Secuencia con mutación en posición 6159\"\n",
        ")\n",
        "\n",
        "# Guardamos la secuencia editada en un nuevo archivo FASTA\n",
        "with open(\"/content/drive/MyDrive/Colab_Notebooks/BIOINFO/output/mi_secuencia_editada.fasta\", \"w\") as output_handle:\n",
        "    SeqIO.write(registro_editado, output_handle, \"fasta\")\n",
        "\n",
        "# Confirmamos que el archivo fue guardado\n",
        "print(\"Secuencia editada guardada como '/content/drive/MyDrive/Colab_Notebooks/BIOINFO/output/mi_secuencia_editada.fasta'\")\n"
      ],
      "metadata": {
        "colab": {
          "base_uri": "https://localhost:8080/"
        },
        "id": "5UuRW-sx1xkj",
        "outputId": "f8ea8994-8185-418a-f974-72170912fa3c"
      },
      "execution_count": null,
      "outputs": [
        {
          "output_type": "stream",
          "name": "stdout",
          "text": [
            "Secuencia editada guardada como '/content/drive/MyDrive/Colab_Notebooks/BIOINFO/output/mi_secuencia_editada.fasta'\n"
          ]
        }
      ]
    }
  ],
  "metadata": {
    "colab": {
      "provenance": [],
      "include_colab_link": true
    },
    "kernelspec": {
      "display_name": "Python 3",
      "name": "python3"
    },
    "language_info": {
      "name": "python"
    }
  },
  "nbformat": 4,
  "nbformat_minor": 0
}